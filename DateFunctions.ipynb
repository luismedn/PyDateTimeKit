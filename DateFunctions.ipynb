{
 "cells": [
  {
   "cell_type": "markdown",
   "id": "f6861c78",
   "metadata": {},
   "source": [
    "Python's datetime Module provides classes for working with dates and times. It's a fundamental module for handling date and time information in Python. Here's a beginner's guide to using datetime objects:\n",
    "\n",
    "# Import the datetime Module\n",
    "\n",
    "To get started, you need to import the datetime module:"
   ]
  },
  {
   "cell_type": "code",
   "execution_count": 1,
   "id": "bdf8fa90",
   "metadata": {},
   "outputs": [],
   "source": [
    "import datetime"
   ]
  },
  {
   "cell_type": "markdown",
   "id": "f92a63f3",
   "metadata": {},
   "source": [
    "# Creating Date and Time Objects\n",
    "\n",
    "## Creating a Date Object\n",
    "\n",
    "You can create a date object representing a specific date using the date() constructor:"
   ]
  },
  {
   "cell_type": "code",
   "execution_count": 2,
   "id": "6523b2e9",
   "metadata": {},
   "outputs": [
    {
     "name": "stdout",
     "output_type": "stream",
     "text": [
      "2023-01-01\n"
     ]
    }
   ],
   "source": [
    "# Create a date object for January 1, 2023\n",
    "my_date = datetime.date(2023, 1, 1)\n",
    "print(my_date)  # Output: 2023-01-01"
   ]
  },
  {
   "cell_type": "markdown",
   "id": "64d7ff02",
   "metadata": {},
   "source": [
    "## Creating a Time Object\n",
    "\n",
    "To represent a specific time, use the time() constructor:"
   ]
  },
  {
   "cell_type": "code",
   "execution_count": 3,
   "id": "fd2a3510",
   "metadata": {},
   "outputs": [
    {
     "name": "stdout",
     "output_type": "stream",
     "text": [
      "15:30:15\n"
     ]
    }
   ],
   "source": [
    "# Create a time object for 3:30:15 PM\n",
    "my_time = datetime.time(15, 30, 15)\n",
    "print(my_time)  # Output: 15:30:15"
   ]
  },
  {
   "cell_type": "markdown",
   "id": "e9002258",
   "metadata": {},
   "source": [
    "## Creating a DateTime Object\n",
    "\n",
    "A datetime object represents both date and time. You can create one using the datetime() constructor:"
   ]
  },
  {
   "cell_type": "code",
   "execution_count": 4,
   "id": "f217bd9d",
   "metadata": {},
   "outputs": [
    {
     "name": "stdout",
     "output_type": "stream",
     "text": [
      "2022-12-15 08:45:00\n"
     ]
    }
   ],
   "source": [
    "# Create a datetime object for December 15, 2022, 8:45:00 AM\n",
    "my_datetime = datetime.datetime(2022, 12, 15, 8, 45, 0)\n",
    "print(my_datetime)  # Output: 2022-12-15 08:45:00"
   ]
  },
  {
   "cell_type": "markdown",
   "id": "40d14358",
   "metadata": {},
   "source": [
    "## Accessing Date and Time Components\n",
    "\n",
    "You can access individual components (year, month, day, hour, minute, second, etc.) of a datetime object using attributes:"
   ]
  },
  {
   "cell_type": "code",
   "execution_count": 5,
   "id": "b723aaaf",
   "metadata": {},
   "outputs": [
    {
     "name": "stdout",
     "output_type": "stream",
     "text": [
      "2022\n",
      "12\n",
      "15\n",
      "8\n",
      "45\n",
      "0\n"
     ]
    }
   ],
   "source": [
    "# Accessing date components\n",
    "print(my_datetime.year)    # Year: 2022\n",
    "print(my_datetime.month)   # Month: 12\n",
    "print(my_datetime.day)     # Day: 15\n",
    "\n",
    "# Accessing time components\n",
    "print(my_datetime.hour)    # Hour: 8\n",
    "print(my_datetime.minute)  # Minute: 45\n",
    "print(my_datetime.second)  # Second: 0"
   ]
  },
  {
   "cell_type": "markdown",
   "id": "4ef05769",
   "metadata": {},
   "source": [
    "## Current Date and Time\n",
    "\n",
    "To get the current date and time, you can use the datetime.now() function:"
   ]
  },
  {
   "cell_type": "code",
   "execution_count": 6,
   "id": "749f9183",
   "metadata": {},
   "outputs": [
    {
     "name": "stdout",
     "output_type": "stream",
     "text": [
      "2023-09-28 15:55:27.410532\n"
     ]
    }
   ],
   "source": [
    "current_datetime = datetime.datetime.now()\n",
    "print(current_datetime)  # Output: Current date and time"
   ]
  },
  {
   "cell_type": "markdown",
   "id": "3d1d6e8c",
   "metadata": {},
   "source": [
    "## Formatting Date and Time\n",
    "\n",
    "You can format a datetime object as a string using the strftime() method and format codes:"
   ]
  },
  {
   "cell_type": "code",
   "execution_count": 8,
   "id": "914a86da",
   "metadata": {},
   "outputs": [
    {
     "name": "stdout",
     "output_type": "stream",
     "text": [
      "2023-09-28 15:56:13\n"
     ]
    }
   ],
   "source": [
    "formatted_date = current_datetime.strftime('%Y-%m-%d %H:%M:%S')\n",
    "print(formatted_date)  # Output: '2022-09-28 14:30:00'"
   ]
  },
  {
   "cell_type": "markdown",
   "id": "2c37e0ec",
   "metadata": {},
   "source": [
    "## Parsing Date and Time\n",
    "\n",
    "Conversely, you can parse a formatted date string into a datetime object using the strptime() method:"
   ]
  },
  {
   "cell_type": "code",
   "execution_count": 9,
   "id": "d96fc096",
   "metadata": {},
   "outputs": [
    {
     "name": "stdout",
     "output_type": "stream",
     "text": [
      "2022-09-28 14:30:00\n"
     ]
    }
   ],
   "source": [
    "date_string = '2022-09-28 14:30:00'\n",
    "parsed_datetime = datetime.datetime.strptime(date_string, '%Y-%m-%d %H:%M:%S')\n",
    "print(parsed_datetime)  # Output: 2022-09-28 14:30:00"
   ]
  },
  {
   "cell_type": "markdown",
   "id": "e989565c",
   "metadata": {},
   "source": [
    "This is a basic introduction to Python's datetime module. It's a versatile library with many features for working with dates and times, including arithmetic operations, time zones, and more. As you become more familiar with Python, you can explore these advanced capabilities for handling date and time data effectively in your programs."
   ]
  }
 ],
 "metadata": {
  "kernelspec": {
   "display_name": "Python 3 (ipykernel)",
   "language": "python",
   "name": "python3"
  },
  "language_info": {
   "codemirror_mode": {
    "name": "ipython",
    "version": 3
   },
   "file_extension": ".py",
   "mimetype": "text/x-python",
   "name": "python",
   "nbconvert_exporter": "python",
   "pygments_lexer": "ipython3",
   "version": "3.11.4"
  }
 },
 "nbformat": 4,
 "nbformat_minor": 5
}
